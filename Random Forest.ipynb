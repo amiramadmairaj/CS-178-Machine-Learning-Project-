{
 "cells": [
  {
   "cell_type": "code",
   "execution_count": 19,
   "id": "7550bfd8",
   "metadata": {},
   "outputs": [],
   "source": [
    "import numpy as np\n",
    "from sklearn.datasets import fetch_openml\n",
    "import matplotlib.pyplot as plt\n",
    "from sklearn.ensemble import RandomForestClassifier\n",
    "from sklearn.model_selection import train_test_split\n",
    "from sklearn.metrics import accuracy_score, confusion_matrix, ConfusionMatrixDisplay, roc_curve, roc_auc_score,auc\n",
    "from sklearn import datasets\n",
    "import pandas as pd\n",
    "from sklearn.preprocessing import StandardScaler,label_binarize\n",
    "from sklearn.model_selection import RandomizedSearchCV\n",
    "from sklearn.metrics import confusion_matrix\n",
    "from sklearn.metrics import mean_squared_error"
   ]
  },
  {
   "cell_type": "code",
   "execution_count": 2,
   "id": "4886062b",
   "metadata": {},
   "outputs": [],
   "source": [
    "x, y = fetch_openml(name=\"Fashion-MNIST\", as_frame=False, return_X_y=True)\n",
    "y = y.astype(int)\n",
    "\n",
    "#validation data 20% of our data (X_val, y_val) \n",
    "X_val, X_remain, y_val, y_remain = train_test_split(x, y, test_size=0.8, shuffle=False)\n",
    "\n",
    "#training/testing data (X_tr, X_te, y_tr, y_te)\n",
    "X_tr, X_te, y_tr, y_te = train_test_split(X_remain, y_remain, test_size=0.25, shuffle=True)\n"
   ]
  },
  {
   "cell_type": "code",
   "execution_count": 3,
   "id": "6a0c605c",
   "metadata": {},
   "outputs": [
    {
     "name": "stdout",
     "output_type": "stream",
     "text": [
      "(14000, 784)\n",
      "(14000,)\n",
      "(42000, 784)\n",
      "(42000,)\n",
      "(14000, 784)\n",
      "(14000,)\n"
     ]
    }
   ],
   "source": [
    "x, y = fetch_openml(name=\"Fashion-MNIST\", as_frame=False, return_X_y=True)\n",
    "y = y.astype(int)\n",
    "\n",
    "#validation data 20% of our data (X_val, y_val) \n",
    "X_val, X_remain, y_val, y_remain = train_test_split(x, y, test_size=0.8, shuffle=False)\n",
    "\n",
    "#training/testing data (X_tr, X_te, y_tr, y_te)\n",
    "X_tr, X_te, y_tr, y_te = train_test_split(X_remain, y_remain, test_size=0.25, shuffle=True)\n",
    "\n",
    "\n",
    "#print sizes of everything\n",
    "print(X_val.shape)\n",
    "print(y_val.shape)\n",
    "print(X_tr.shape)\n",
    "print(y_tr.shape)\n",
    "print(X_te.shape)\n",
    "print(y_te.shape)\n",
    "\n",
    "\n",
    "scaler = StandardScaler()\n",
    "scaler.fit(X_tr)\n",
    "X_val = scaler.transform(X_val)\n",
    "X_tr = scaler.transform(X_tr)\n",
    "X_te = scaler.transform(X_te)"
   ]
  },
  {
   "cell_type": "code",
   "execution_count": 5,
   "id": "4da657fa",
   "metadata": {},
   "outputs": [
    {
     "name": "stdout",
     "output_type": "stream",
     "text": [
      "Fitting 1 folds for each of 10 candidates, totalling 10 fits\n"
     ]
    },
    {
     "name": "stderr",
     "output_type": "stream",
     "text": [
      "/opt/miniconda3/envs/cs178/lib/python3.10/site-packages/sklearn/model_selection/_validation.py:378: FitFailedWarning: \n",
      "5 fits failed out of a total of 10.\n",
      "The score on these train-test partitions for these parameters will be set to nan.\n",
      "If these failures are not expected, you can try to debug them by setting error_score='raise'.\n",
      "\n",
      "Below are more details about the failures:\n",
      "--------------------------------------------------------------------------------\n",
      "5 fits failed with the following error:\n",
      "Traceback (most recent call last):\n",
      "  File \"/opt/miniconda3/envs/cs178/lib/python3.10/site-packages/sklearn/model_selection/_validation.py\", line 686, in _fit_and_score\n",
      "    estimator.fit(X_train, y_train, **fit_params)\n",
      "  File \"/opt/miniconda3/envs/cs178/lib/python3.10/site-packages/sklearn/ensemble/_forest.py\", line 476, in fit\n",
      "    trees = Parallel(\n",
      "  File \"/opt/miniconda3/envs/cs178/lib/python3.10/site-packages/joblib/parallel.py\", line 1085, in __call__\n",
      "    if self.dispatch_one_batch(iterator):\n",
      "  File \"/opt/miniconda3/envs/cs178/lib/python3.10/site-packages/joblib/parallel.py\", line 901, in dispatch_one_batch\n",
      "    self._dispatch(tasks)\n",
      "  File \"/opt/miniconda3/envs/cs178/lib/python3.10/site-packages/joblib/parallel.py\", line 819, in _dispatch\n",
      "    job = self._backend.apply_async(batch, callback=cb)\n",
      "  File \"/opt/miniconda3/envs/cs178/lib/python3.10/site-packages/joblib/_parallel_backends.py\", line 208, in apply_async\n",
      "    result = ImmediateResult(func)\n",
      "  File \"/opt/miniconda3/envs/cs178/lib/python3.10/site-packages/joblib/_parallel_backends.py\", line 597, in __init__\n",
      "    self.results = batch()\n",
      "  File \"/opt/miniconda3/envs/cs178/lib/python3.10/site-packages/joblib/parallel.py\", line 288, in __call__\n",
      "    return [func(*args, **kwargs)\n",
      "  File \"/opt/miniconda3/envs/cs178/lib/python3.10/site-packages/joblib/parallel.py\", line 288, in <listcomp>\n",
      "    return [func(*args, **kwargs)\n",
      "  File \"/opt/miniconda3/envs/cs178/lib/python3.10/site-packages/sklearn/utils/fixes.py\", line 117, in __call__\n",
      "    return self.function(*args, **kwargs)\n",
      "  File \"/opt/miniconda3/envs/cs178/lib/python3.10/site-packages/sklearn/ensemble/_forest.py\", line 189, in _parallel_build_trees\n",
      "    tree.fit(X, y, sample_weight=curr_sample_weight, check_input=False)\n",
      "  File \"/opt/miniconda3/envs/cs178/lib/python3.10/site-packages/sklearn/tree/_classes.py\", line 969, in fit\n",
      "    super().fit(\n",
      "  File \"/opt/miniconda3/envs/cs178/lib/python3.10/site-packages/sklearn/tree/_classes.py\", line 317, in fit\n",
      "    raise ValueError(\n",
      "ValueError: Invalid value for max_features. Allowed string values are 'auto', 'sqrt' or 'log2'.\n",
      "\n",
      "  warnings.warn(some_fits_failed_message, FitFailedWarning)\n",
      "/opt/miniconda3/envs/cs178/lib/python3.10/site-packages/sklearn/model_selection/_search.py:953: UserWarning: One or more of the test scores are non-finite: [       nan        nan 0.45688095        nan 0.86316667        nan\n",
      "        nan 0.9922381  0.89102381 0.86757143]\n",
      "  warnings.warn(\n"
     ]
    },
    {
     "name": "stdout",
     "output_type": "stream",
     "text": [
      "Tuned Hyperparameters : {'n_estimators': 100, 'min_samples_split': 7, 'min_samples_leaf': 2, 'max_features': 'log2', 'max_depth': 100, 'criterion': 'log_loss'}\n",
      "Accuracy : 0.9922380952380953\n",
      "[CV 1/1; 6/10] START criterion=gini, max_depth=100, max_features=None, min_samples_leaf=4, min_samples_split=2, n_estimators=10\n",
      "[CV 1/1; 6/10] END criterion=gini, max_depth=100, max_features=None, min_samples_leaf=4, min_samples_split=2, n_estimators=10;, score=nan total time=   1.1s\n",
      "[CV 1/1; 2/10] START criterion=log_loss, max_depth=1, max_features=None, min_samples_leaf=4, min_samples_split=6, n_estimators=100\n",
      "[CV 1/1; 2/10] END criterion=log_loss, max_depth=1, max_features=None, min_samples_leaf=4, min_samples_split=6, n_estimators=100;, score=nan total time=   1.1s\n",
      "[CV 1/1; 1/10] START criterion=entropy, max_depth=1, max_features=None, min_samples_leaf=1, min_samples_split=6, n_estimators=100\n",
      "[CV 1/1; 1/10] END criterion=entropy, max_depth=1, max_features=None, min_samples_leaf=1, min_samples_split=6, n_estimators=100;, score=nan total time=   1.1s\n",
      "[CV 1/1; 4/10] START criterion=gini, max_depth=100, max_features=None, min_samples_leaf=6, min_samples_split=2, n_estimators=1000\n",
      "[CV 1/1; 4/10] END criterion=gini, max_depth=100, max_features=None, min_samples_leaf=6, min_samples_split=2, n_estimators=1000;, score=nan total time=   1.5s\n",
      "[CV 1/1; 7/10] START criterion=entropy, max_depth=1, max_features=None, min_samples_leaf=4, min_samples_split=7, n_estimators=1000\n",
      "[CV 1/1; 7/10] END criterion=entropy, max_depth=1, max_features=None, min_samples_leaf=4, min_samples_split=7, n_estimators=1000;, score=nan total time=   1.5s\n",
      "[CV 1/1; 3/10] START criterion=entropy, max_depth=1, max_features=log2, min_samples_leaf=1, min_samples_split=6, n_estimators=100\n",
      "[CV 1/1; 3/10] END criterion=entropy, max_depth=1, max_features=log2, min_samples_leaf=1, min_samples_split=6, n_estimators=100;, score=0.457 total time=   3.6s\n",
      "[CV 1/1; 5/10] START criterion=gini, max_depth=10, max_features=log2, min_samples_leaf=6, min_samples_split=6, n_estimators=100\n",
      "[CV 1/1; 5/10] END criterion=gini, max_depth=10, max_features=log2, min_samples_leaf=6, min_samples_split=6, n_estimators=100;, score=0.863 total time=  15.4s\n",
      "[CV 1/1; 8/10] START criterion=log_loss, max_depth=100, max_features=log2, min_samples_leaf=2, min_samples_split=7, n_estimators=100\n",
      "[CV 1/1; 8/10] END criterion=log_loss, max_depth=100, max_features=log2, min_samples_leaf=2, min_samples_split=7, n_estimators=100;, score=0.992 total time=  28.6s\n",
      "[CV 1/1; 9/10] START criterion=log_loss, max_depth=10, max_features=sqrt, min_samples_leaf=1, min_samples_split=2, n_estimators=100\n",
      "[CV 1/1; 9/10] END criterion=log_loss, max_depth=10, max_features=sqrt, min_samples_leaf=1, min_samples_split=2, n_estimators=100;, score=0.891 total time=  49.8s\n"
     ]
    }
   ],
   "source": [
    "#Messing with hyperparameter (NOTE: Tunable hyperparameters are: solver, regularization coefficient, and penalty)\n",
    "#https://towardsdatascience.com/tuning-the-hyperparameters-of-your-machine-learning-model-using-gridsearchcv-7fc2bb76ff27\n",
    "from sklearn import preprocessing\n",
    "\n",
    "X_tr = preprocessing.scale(X_tr) \n",
    "X_te = preprocessing.scale(X_te) \n",
    "X_val = preprocessing.scale(X_val) \n",
    "\n",
    "\n",
    "\n",
    "model = RandomForestClassifier() \n",
    "parameters = {\n",
    "    'n_estimators': [10,100,1000], \n",
    "    'criterion': ['gini', 'entropy', 'log_loss'],\n",
    "    'max_depth': [1,10,100],\n",
    "    'min_samples_split':[2,4,6,7],\n",
    "    'min_samples_leaf':[1,2,4,6],\n",
    "    'max_features': ['sqrt', 'log2', 'None']\n",
    "}\n",
    "\n",
    "#Here we will find the best model (ie. which hyperparameters to use then run our )\n",
    "test_all_hyperparams = RandomizedSearchCV(model,param_distributions = parameters, n_jobs= -1, scoring='accuracy', cv = [(slice(None), slice(None))],verbose = 10)\n",
    "test_all_hyperparams.fit(X_tr, y_tr)\n",
    "preds = test_all_hyperparams.best_estimator_.predict(X_te)\n",
    "print(\"Tuned Hyperparameters :\", test_all_hyperparams.best_params_)\n",
    "print(\"Accuracy :\",test_all_hyperparams.best_score_)"
   ]
  },
  {
   "cell_type": "code",
   "execution_count": null,
   "id": "3c313767",
   "metadata": {},
   "outputs": [],
   "source": []
  },
  {
   "cell_type": "code",
   "execution_count": 6,
   "id": "04d5b318",
   "metadata": {},
   "outputs": [
    {
     "name": "stdout",
     "output_type": "stream",
     "text": [
      "Best: 0.992238 using {'n_estimators': 100, 'min_samples_split': 7, 'min_samples_leaf': 2, 'max_features': 'log2', 'max_depth': 100, 'criterion': 'log_loss'}\n",
      "nan (nan) with: {'n_estimators': 100, 'min_samples_split': 6, 'min_samples_leaf': 1, 'max_features': 'None', 'max_depth': 1, 'criterion': 'entropy'}\n",
      "nan (nan) with: {'n_estimators': 100, 'min_samples_split': 6, 'min_samples_leaf': 4, 'max_features': 'None', 'max_depth': 1, 'criterion': 'log_loss'}\n",
      "0.456881 (0.000000) with: {'n_estimators': 100, 'min_samples_split': 6, 'min_samples_leaf': 1, 'max_features': 'log2', 'max_depth': 1, 'criterion': 'entropy'}\n",
      "nan (nan) with: {'n_estimators': 1000, 'min_samples_split': 2, 'min_samples_leaf': 6, 'max_features': 'None', 'max_depth': 100, 'criterion': 'gini'}\n",
      "0.863167 (0.000000) with: {'n_estimators': 100, 'min_samples_split': 6, 'min_samples_leaf': 6, 'max_features': 'log2', 'max_depth': 10, 'criterion': 'gini'}\n",
      "nan (nan) with: {'n_estimators': 10, 'min_samples_split': 2, 'min_samples_leaf': 4, 'max_features': 'None', 'max_depth': 100, 'criterion': 'gini'}\n",
      "nan (nan) with: {'n_estimators': 1000, 'min_samples_split': 7, 'min_samples_leaf': 4, 'max_features': 'None', 'max_depth': 1, 'criterion': 'entropy'}\n",
      "0.992238 (0.000000) with: {'n_estimators': 100, 'min_samples_split': 7, 'min_samples_leaf': 2, 'max_features': 'log2', 'max_depth': 100, 'criterion': 'log_loss'}\n",
      "0.891024 (0.000000) with: {'n_estimators': 100, 'min_samples_split': 2, 'min_samples_leaf': 1, 'max_features': 'sqrt', 'max_depth': 10, 'criterion': 'log_loss'}\n",
      "0.867571 (0.000000) with: {'n_estimators': 1000, 'min_samples_split': 2, 'min_samples_leaf': 4, 'max_features': 'log2', 'max_depth': 10, 'criterion': 'gini'}\n",
      "[CV 1/1; 10/10] START criterion=gini, max_depth=10, max_features=log2, min_samples_leaf=4, min_samples_split=2, n_estimators=1000\n",
      "[CV 1/1; 10/10] END criterion=gini, max_depth=10, max_features=log2, min_samples_leaf=4, min_samples_split=2, n_estimators=1000;, score=0.868 total time= 2.3min\n"
     ]
    }
   ],
   "source": [
    "print(\"Best: %f using %s\" % (test_all_hyperparams.best_score_, test_all_hyperparams.best_params_))\n",
    "means = test_all_hyperparams.cv_results_['mean_test_score']\n",
    "stds = test_all_hyperparams.cv_results_['std_test_score']\n",
    "params = test_all_hyperparams.cv_results_['params']\n",
    "for mean, stdev, param in zip(means, stds, params):\n",
    "    print(\"%f (%f) with: %r\" % (mean, stdev, param))"
   ]
  },
  {
   "cell_type": "code",
   "execution_count": null,
   "id": "d230ff2b",
   "metadata": {},
   "outputs": [],
   "source": []
  },
  {
   "cell_type": "code",
   "execution_count": 16,
   "id": "f2fef3ef",
   "metadata": {},
   "outputs": [
    {
     "name": "stdout",
     "output_type": "stream",
     "text": [
      "Score with training size 8400: Training Score:0.9805952380952381, Test Score:0.8444285714285714\n",
      "Score with training size 16800: Training Score:0.9833928571428572, Test Score:0.8597142857142858\n",
      "Score with training size 25200: Training Score:0.983015873015873, Test Score:0.8614285714285714\n",
      "Score with training size 33600: Training Score:0.9827678571428572, Test Score:0.8642857142857143\n",
      "Score with training size 42000: Training Score:0.9833333333333333, Test Score:0.8661428571428571\n"
     ]
    }
   ],
   "source": [
    "\n",
    "tr_size = [8400 * i for i in range(1,6)]\n",
    "tr_score = []\n",
    "te_score = []\n",
    "for i in tr_size:\n",
    "    model = RandomForestClassifier(n_estimators = 100, min_samples_split = 10, min_samples_leaf = 2, max_features = \"log2\", max_depth = 100, criterion = \"log_loss\")\n",
    "    model.fit(X_tr[:i],y_tr[:i])\n",
    "    y_tr_pred = model.predict(X_tr[:i])\n",
    "    y_te_pred = model.predict(X_te)\n",
    "    tr_score.append(accuracy_score(y_tr[:i],y_tr_pred))\n",
    "    te_score.append(accuracy_score(y_te,y_te_pred))\n",
    "for i in range(len(tr_size)):   \n",
    "    print(f\"Score with training size {tr_size[i]}: Training Score:{tr_score[i]}, Test Score:{te_score[i]}\")\n"
   ]
  },
  {
   "cell_type": "code",
   "execution_count": 17,
   "id": "485a84ba",
   "metadata": {},
   "outputs": [
    {
     "data": {
      "text/plain": [
       "<matplotlib.legend.Legend at 0x7fac409db250>"
      ]
     },
     "execution_count": 17,
     "metadata": {},
     "output_type": "execute_result"
    },
    {
     "data": {
      "image/png": "[encoded data removed]",
      "text/plain": [
       "<Figure size 640x480 with 1 Axes>"
      ]
     },
     "metadata": {},
     "output_type": "display_data"
    }
   ],
   "source": [
    "fig,axes = plt.subplots()\n",
    "axes.set_xlabel(\"Test Size\")\n",
    "axes.set_ylabel(\"Accuracy\")\n",
    "axes.plot(tr_size,tr_score,\"b-\",label = \"training data\")\n",
    "axes.plot(tr_size,te_score,\"r\",label = \"testing data\")\n",
    "axes.legend()"
   ]
  },
  {
   "cell_type": "code",
   "execution_count": null,
   "id": "603855e2",
   "metadata": {},
   "outputs": [],
   "source": []
  }
 ],
 "metadata": {
  "kernelspec": {
   "display_name": "Python 3 (ipykernel)",
   "language": "python",
   "name": "python3"
  },
  "language_info": {
   "codemirror_mode": {
    "name": "ipython",
    "version": 3
   },
   "file_extension": ".py",
   "mimetype": "text/x-python",
   "name": "python",
   "nbconvert_exporter": "python",
   "pygments_lexer": "ipython3",
   "version": "3.10.4"
  }
 },
 "nbformat": 4,
 "nbformat_minor": 5
}
