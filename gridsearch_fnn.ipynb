{
 "cells": [
  {
   "cell_type": "code",
   "execution_count": 1,
   "id": "f23d706e",
   "metadata": {},
   "outputs": [],
   "source": [
    "import matplotlib.pyplot as plt\n",
    "import numpy as np\n",
    "\n",
    "\n",
    "from sklearn.datasets import fetch_openml\n",
    "from sklearn.model_selection import train_test_split\n",
    "from sklearn.preprocessing import StandardScaler\n",
    "from sklearn.metrics import accuracy_score\n",
    "\n",
    "from sklearn.linear_model import LogisticRegression\n",
    "from sklearn.neural_network import MLPClassifier\n",
    "\n",
    "from sklearn.model_selection import learning_curve"
   ]
  },
  {
   "cell_type": "code",
   "execution_count": 2,
   "id": "42cac49e",
   "metadata": {},
   "outputs": [],
   "source": [
    "x, y = fetch_openml(name=\"Fashion-MNIST\", as_frame=False, return_X_y=True)\n",
    "    # 改变数据类型\n",
    "y = y.astype(int)\n",
    "    # 训练，测试数据分类\n",
    "x_va, x_temp, y_va, y_temp = train_test_split(x, y, test_size=0.8, shuffle=True)\n",
    "x_tr, x_te, y_tr, y_te = train_test_split(x_temp, y_temp, test_size=0.25, shuffle=True)\n",
    "\n",
    "# print(x_val.shape,x_tr.shape,x_te.shape)\n",
    "\n",
    "# 数据规范化\n",
    "scaler = StandardScaler()\n",
    "scaler.fit(x_tr)\n",
    "trans_x_va = scaler.transform(x_va)\n",
    "trans_x_tr = scaler.transform(x_tr)\n",
    "trans_x_te = scaler.transform(x_te)"
   ]
  },
  {
   "cell_type": "code",
   "execution_count": 3,
   "id": "7bb0c156",
   "metadata": {},
   "outputs": [
    {
     "data": {
      "text/plain": [
       "[4200, 8400, 12600, 16800, 21000, 25200, 29400, 33600, 37800, 42000]"
      ]
     },
     "execution_count": 3,
     "metadata": {},
     "output_type": "execute_result"
    }
   ],
   "source": [
    "train_size = [4200 * i for i in range(1,11)]\n",
    "train_score = []\n",
    "val_score = []\n",
    "train_size"
   ]
  },
  {
   "cell_type": "code",
   "execution_count": 4,
   "id": "3ee4b482",
   "metadata": {},
   "outputs": [
    {
     "data": {
      "text/plain": [
       "(42000, 784)"
      ]
     },
     "execution_count": 4,
     "metadata": {},
     "output_type": "execute_result"
    }
   ],
   "source": [
    "trans_x_tr.shape"
   ]
  },
  {
   "cell_type": "code",
   "execution_count": 5,
   "id": "b7e7c70f",
   "metadata": {},
   "outputs": [],
   "source": [
    "for size in train_size:\n",
    "    break\n",
    "    clf = MLPClassifier()\n",
    "    print(trans_x_tr[0:size].shape)\n",
    "    clf.fit(trans_x_tr[0:size],y_tr[0:size])\n",
    "\n",
    "    train_score.append(clf.score(\n",
    "        trans_x_tr[0:size],y_tr[0:size] ))\n",
    "    val_score.append(clf.score(\n",
    "        trans_x_va,y_va))"
   ]
  },
  {
   "cell_type": "code",
   "execution_count": 6,
   "id": "2a67b430",
   "metadata": {},
   "outputs": [
    {
     "data": {
      "text/plain": [
       "[]"
      ]
     },
     "execution_count": 6,
     "metadata": {},
     "output_type": "execute_result"
    }
   ],
   "source": [
    "train_score"
   ]
  },
  {
   "cell_type": "code",
   "execution_count": 7,
   "id": "3349d327",
   "metadata": {},
   "outputs": [
    {
     "data": {
      "text/plain": [
       "[]"
      ]
     },
     "execution_count": 7,
     "metadata": {},
     "output_type": "execute_result"
    }
   ],
   "source": [
    "val_score"
   ]
  },
  {
   "cell_type": "code",
   "execution_count": 8,
   "id": "677f4df3",
   "metadata": {},
   "outputs": [],
   "source": [
    "activation = [\"identity\", \"logistic\", \"tanh\", \"relu\"]\n",
    "learning_rate = [\"constant\", \"invscaling\", \"adaptive\"]\n",
    "hidden_layer = [(300,), (400,),(400,100,),(400,30,)]"
   ]
  },
  {
   "cell_type": "code",
   "execution_count": 9,
   "id": "5f237eff",
   "metadata": {},
   "outputs": [],
   "source": [
    "train_score = []\n",
    "val_score = []"
   ]
  },
  {
   "cell_type": "code",
   "execution_count": 10,
   "id": "d60f1ef5",
   "metadata": {},
   "outputs": [
    {
     "name": "stdout",
     "output_type": "stream",
     "text": [
      "identity constant (300,)\n",
      "identity constant (400,)\n",
      "identity constant (400, 100)\n",
      "identity constant (400, 30)\n",
      "identity invscaling (300,)\n",
      "identity invscaling (400,)\n",
      "identity invscaling (400, 100)\n",
      "identity invscaling (400, 30)\n",
      "identity adaptive (300,)\n",
      "identity adaptive (400,)\n",
      "identity adaptive (400, 100)\n",
      "identity adaptive (400, 30)\n",
      "logistic constant (300,)\n",
      "logistic constant (400,)\n",
      "logistic constant (400, 100)\n",
      "logistic constant (400, 30)\n",
      "logistic invscaling (300,)\n",
      "logistic invscaling (400,)\n",
      "logistic invscaling (400, 100)\n",
      "logistic invscaling (400, 30)\n",
      "logistic adaptive (300,)\n",
      "logistic adaptive (400,)\n",
      "logistic adaptive (400, 100)\n",
      "logistic adaptive (400, 30)\n",
      "tanh constant (300,)\n",
      "tanh constant (400,)\n",
      "tanh constant (400, 100)\n",
      "tanh constant (400, 30)\n",
      "tanh invscaling (300,)\n",
      "tanh invscaling (400,)\n",
      "tanh invscaling (400, 100)\n",
      "tanh invscaling (400, 30)\n",
      "tanh adaptive (300,)\n",
      "tanh adaptive (400,)\n",
      "tanh adaptive (400, 100)\n",
      "tanh adaptive (400, 30)\n",
      "relu constant (300,)\n",
      "relu constant (400,)\n",
      "relu constant (400, 100)\n",
      "relu constant (400, 30)\n",
      "relu invscaling (300,)\n",
      "relu invscaling (400,)\n",
      "relu invscaling (400, 100)\n",
      "relu invscaling (400, 30)\n",
      "relu adaptive (300,)\n",
      "relu adaptive (400,)\n",
      "relu adaptive (400, 100)\n",
      "relu adaptive (400, 30)\n"
     ]
    }
   ],
   "source": [
    "for a in activation:\n",
    "    for l in learning_rate:\n",
    "        for h in hidden_layer:\n",
    "            print(a,l,h)\n",
    "            clf = MLPClassifier(activation = a,learning_rate = l,hidden_layer_sizes = h)\n",
    "            clf.fit(trans_x_tr[0:10000],y_tr[0:10000])\n",
    "            train_score.append(clf.score(trans_x_tr[0:10000],y_tr[0:10000]))\n",
    "            val_score.append(clf.score(trans_x_va,y_va))"
   ]
  },
  {
   "cell_type": "code",
   "execution_count": 22,
   "id": "e4fcc4d4",
   "metadata": {},
   "outputs": [
    {
     "name": "stdout",
     "output_type": "stream",
     "text": [
      "identity constant (300,) 0.8073571428571429\n",
      "identity constant (400,) 0.8012142857142858\n",
      "identity constant (400, 100) 0.8062142857142857\n",
      "identity constant (400, 30) 0.8073571428571429\n",
      "identity invscaling (300,) 0.8114285714285714\n",
      "identity invscaling (400,) 0.8072857142857143\n",
      "identity invscaling (400, 100) 0.8109285714285714\n",
      "identity invscaling (400, 30) 0.8102857142857143\n",
      "identity adaptive (300,) 0.8107142857142857\n",
      "identity adaptive (400,) 0.8054285714285714\n",
      "identity adaptive (400, 100) 0.8056428571428571\n",
      "identity adaptive (400, 30) 0.8161428571428572\n",
      "logistic constant (300,) 0.8660714285714286\n",
      "logistic constant (400,) 0.8644285714285714\n",
      "logistic constant (400, 100) 0.8659285714285714\n",
      "logistic constant (400, 30) 0.8662142857142857\n",
      "logistic invscaling (300,) 0.8612857142857143\n",
      "logistic invscaling (400,) 0.8656428571428572\n",
      "logistic invscaling (400, 100) 0.8642142857142857\n",
      "logistic invscaling (400, 30) 0.8662857142857143\n",
      "logistic adaptive (300,) 0.8644285714285714\n",
      "logistic adaptive (400,) 0.8643571428571428\n",
      "logistic adaptive (400, 100) 0.8674285714285714\n",
      "logistic adaptive (400, 30) 0.8685\n",
      "tanh constant (300,) 0.8671428571428571\n",
      "tanh constant (400,) 0.8648571428571429\n",
      "tanh constant (400, 100) 0.8594285714285714\n",
      "tanh constant (400, 30) 0.8658571428571429\n",
      "tanh invscaling (300,) 0.8633571428571428\n",
      "tanh invscaling (400,) 0.8671428571428571\n",
      "tanh invscaling (400, 100) 0.8693571428571428\n",
      "tanh invscaling (400, 30) 0.8655714285714285\n",
      "tanh adaptive (300,) 0.8627857142857143\n",
      "tanh adaptive (400,) 0.866\n",
      "tanh adaptive (400, 100) 0.8665\n",
      "tanh adaptive (400, 30) 0.8659285714285714\n",
      "relu constant (300,) 0.8663571428571428\n",
      "relu constant (400,) 0.8653571428571428\n",
      "relu constant (400, 100) 0.8672142857142857\n",
      "relu constant (400, 30) 0.8537857142857143\n",
      "relu invscaling (300,) 0.8653571428571428\n",
      "relu invscaling (400,) 0.8267142857142857\n",
      "relu invscaling (400, 100) 0.8705714285714286\n",
      "relu invscaling (400, 30) 0.8675\n",
      "relu adaptive (300,) 0.8658571428571429\n",
      "relu adaptive (400,) 0.8674285714285714\n",
      "relu adaptive (400, 100) 0.8705\n",
      "relu adaptive (400, 30) 0.8664285714285714\n"
     ]
    }
   ],
   "source": [
    "temp = iter(val_score)\n",
    "for a in activation:\n",
    "    for l in learning_rate:\n",
    "        for h in hidden_layer:\n",
    "            t = next(temp)\n",
    "            print(a,l,h,t)"
   ]
  },
  {
   "cell_type": "code",
   "execution_count": 23,
   "id": "8b0c1fa3",
   "metadata": {},
   "outputs": [],
   "source": [
    "clf = MLPClassifier(activation = \"relu\",learning_rate = \"invscaling\",hidden_layer_sizes = (400, 100,))"
   ]
  },
  {
   "cell_type": "code",
   "execution_count": 24,
   "id": "d1621e3d",
   "metadata": {},
   "outputs": [
    {
     "data": {
      "text/plain": [
       "MLPClassifier(hidden_layer_sizes=(400, 100), learning_rate='invscaling')"
      ]
     },
     "execution_count": 24,
     "metadata": {},
     "output_type": "execute_result"
    }
   ],
   "source": [
    "clf.fit(trans_x_tr,y_tr)"
   ]
  },
  {
   "cell_type": "code",
   "execution_count": null,
   "id": "cfc47229",
   "metadata": {},
   "outputs": [],
   "source": [
    "clf.score(trans_x_tr,y_te)"
   ]
  },
  {
   "cell_type": "code",
   "execution_count": null,
   "id": "7ce24a0c",
   "metadata": {},
   "outputs": [],
   "source": [
    "clf.score(trans_x_va,y_va)"
   ]
  }
 ],
 "metadata": {
  "kernelspec": {
   "display_name": "Python 3 (ipykernel)",
   "language": "python",
   "name": "python3"
  },
  "language_info": {
   "codemirror_mode": {
    "name": "ipython",
    "version": 3
   },
   "file_extension": ".py",
   "mimetype": "text/x-python",
   "name": "python",
   "nbconvert_exporter": "python",
   "pygments_lexer": "ipython3",
   "version": "3.9.12"
  }
 },
 "nbformat": 4,
 "nbformat_minor": 5
}
